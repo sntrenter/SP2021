{
 "cells": [
  {
   "cell_type": "code",
   "execution_count": null,
   "metadata": {},
   "outputs": [],
   "source": [
    "import tensorflow as tf \n",
    "\n",
    "if tf.test.gpu_device_name(): \n",
    "\n",
    "    print('Default GPU Device: {}'.format(tf.test.gpu_device_name()))\n",
    "\n",
    "else:\n",
    "\n",
    "   print(\"Please install GPU version of TF\")"
   ]
  },
  {
   "cell_type": "code",
   "execution_count": null,
   "metadata": {
    "id": "AtoaIqPCaNVO"
   },
   "outputs": [],
   "source": [
    "historyGlobal = None\n",
    "def plot_history(history):\n",
    "  acc = history.history['accuracy']\n",
    "  val_acc = history.history['accuracy']\n",
    "  loss = history.history['loss']\n",
    "  val_loss = history.history['val_loss']\n",
    "\n",
    "  epochs = range(len(acc))\n",
    "\n",
    "  plt.figure()\n",
    "  plt.plot(epochs, acc, 'bo', label='Training acc')\n",
    "  plt.plot(epochs, val_acc, 'b', label='Validation acc')\n",
    "  plt.title('Training and validation accuracy')\n",
    "  plt.legend()\n",
    "\n",
    "  plt.figure()\n",
    "  plt.plot(epochs, loss, 'bo', label='Training loss')\n",
    "  plt.plot(epochs, val_loss, 'b', label='Validation loss')\n",
    "  plt.title('Training and validation loss')\n",
    "  plt.legend()\n",
    "\n",
    "  plt.show()\n",
    "\n",
    "def train_model(model,epochs=25):\n",
    "  history = model.fit(\n",
    "      train_generator,\n",
    "      steps_per_epoch=100,\n",
    "      epochs=epochs,\n",
    "      validation_data=valid_generator,\n",
    "      use_multiprocessing=False,\n",
    "      validation_steps=100, callbacks=[])\n",
    "  global historyGlobal\n",
    "  historyGlobal = history\n",
    "  plot_history(history)"
   ]
  },
  {
   "cell_type": "code",
   "execution_count": null,
   "metadata": {
    "id": "SAhBFDxEuQnF"
   },
   "outputs": [],
   "source": [
    "file_path = \"/content/drive/MyDrive/SP2021/4390/Images_sorted\"\n",
    "file_train = \"/content/drive/MyDrive/SP2021/4390/images_sorted2/Training\"\n",
    "file_test = \"/content/drive/MyDrive/SP2021/4390/images_sorted2/Testing\"\n",
    "\n",
    "file_train = r\"C:\\Users\\sntre\\Documents\\GitHub\\SP2021\\DL\\images_sorted_x256_with_valid\\Training\"\n",
    "file_valid = r\"C:\\Users\\sntre\\Documents\\GitHub\\SP2021\\DL\\images_sorted_x256_with_valid\\Validation\"\n",
    "#Local copies\n"
   ]
  },
  {
   "cell_type": "code",
   "execution_count": null,
   "metadata": {
    "id": "k_IyEvbkuQnG"
   },
   "outputs": [],
   "source": [
    "from tensorflow.keras.preprocessing.image import ImageDataGenerator\n",
    "my_generator = ImageDataGenerator(rescale=1./255)"
   ]
  },
  {
   "cell_type": "code",
   "execution_count": null,
   "metadata": {
    "id": "V3sYmIm4uQnG"
   },
   "outputs": [],
   "source": [
    "train_datagen = ImageDataGenerator(rescale=1./255,\n",
    "    rotation_range=10,\n",
    "    brightness_range=[0.8,1.2],\n",
    "    fill_mode='nearest'\n",
    "    )\n",
    "\n",
    "validate_datagen = ImageDataGenerator(rescale=1./255,\n",
    "    rotation_range=10,\n",
    "    brightness_range=[0.8,1.2],\n",
    "    fill_mode='nearest'\n",
    "    )\n",
    "train_datagen = ImageDataGenerator(rescale=1./255)"
   ]
  },
  {
   "cell_type": "code",
   "execution_count": null,
   "metadata": {
    "colab": {
     "base_uri": "https://localhost:8080/"
    },
    "id": "NAAWAFHRuQnG",
    "outputId": "3f8480df-f750-4199-99bb-5ce7557eedc1"
   },
   "outputs": [],
   "source": [
    "train_generator = train_datagen.flow_from_directory( file_train, target_size=(256, 256), batch_size=4, class_mode='binary')\n",
    "valid_generator = validate_datagen.flow_from_directory(file_valid, target_size=(256, 256), batch_size=4, class_mode='binary')"
   ]
  },
  {
   "cell_type": "code",
   "execution_count": null,
   "metadata": {
    "colab": {
     "base_uri": "https://localhost:8080/",
     "height": 1000
    },
    "id": "ixN_7w-VuQnG",
    "outputId": "f5baa573-7c40-40b5-d237-b23321b8e8bd"
   },
   "outputs": [],
   "source": [
    "import matplotlib.pyplot as plt\n",
    "import numpy as np\n",
    "itor = 0\n",
    "for my_batch in train_generator:\n",
    "    # my_batch is a tuple with images and labels\n",
    "    images = my_batch[0]\n",
    "    labels = my_batch[1]\n",
    "    for i in range(len(labels)):\n",
    "        # Gives one image and its corresponding label\n",
    "        #plt.imshow(images[i])\n",
    "        plt.imshow(images[i])\n",
    "        plt.colorbar()\n",
    "        plt.show()\n",
    "        print(images[i].shape)\n",
    "        print(labels[i])\n",
    "        break\n",
    "    if itor > 3: break\n",
    "    itor+=1"
   ]
  },
  {
   "cell_type": "markdown",
   "metadata": {
    "id": "1zT0Egx6uQnH"
   },
   "source": [
    "Build a model:"
   ]
  },
  {
   "cell_type": "code",
   "execution_count": null,
   "metadata": {
    "id": "iC43_Ce6uQnH"
   },
   "outputs": [],
   "source": [
    "\n",
    "from tensorflow.keras.datasets import mnist\n",
    "from tensorflow.keras.utils import to_categorical\n",
    "from tensorflow.keras.layers import *\n",
    "from tensorflow.keras.models import *\n",
    "import matplotlib.pyplot as plt"
   ]
  },
  {
   "cell_type": "code",
   "execution_count": null,
   "metadata": {
    "colab": {
     "base_uri": "https://localhost:8080/",
     "height": 1000
    },
    "id": "I9XNGwet2mq3",
    "outputId": "a2fba761-9890-48eb-9769-86d609271077"
   },
   "outputs": [],
   "source": [
    "\n",
    "model = Sequential()\n",
    "model.add(Conv2D(filters = 64, kernel_size = 3, activation = 'relu', input_shape = (256, 256, 3)))\n",
    "model.add(Conv2D(filters = 8, kernel_size = 3, activation = 'relu'))\n",
    "model.add(Conv2D(filters = 8, kernel_size = 3, activation = 'relu'))\n",
    "model.add(Conv2D(filters = 8, kernel_size = 3, activation = 'relu'))\n",
    "model.add(MaxPooling2D(pool_size = 8, strides = 8))\n",
    "model.add(Flatten())\n",
    "model.add(Dense(units = 16, activation = 'relu'))\n",
    "model.add( Dense( 1, activation = 'sigmoid' ) )\n",
    "model.compile(optimizer = 'adam', loss = 'binary_crossentropy', metrics = ['accuracy'])\n",
    "print(model.summary())\n",
    "train_model(model,epochs=100)"
   ]
  },
  {
   "cell_type": "code",
   "execution_count": null,
   "metadata": {},
   "outputs": [],
   "source": []
  },
  {
   "cell_type": "code",
   "execution_count": null,
   "metadata": {},
   "outputs": [],
   "source": []
  }
 ],
 "metadata": {
  "accelerator": "GPU",
  "colab": {
   "collapsed_sections": [],
   "name": "phase_3_test.ipynb",
   "provenance": [],
   "toc_visible": true
  },
  "kernelspec": {
   "display_name": "Python 3",
   "language": "python",
   "name": "python3"
  },
  "language_info": {
   "codemirror_mode": {
    "name": "ipython",
    "version": 3
   },
   "file_extension": ".py",
   "mimetype": "text/x-python",
   "name": "python",
   "nbconvert_exporter": "python",
   "pygments_lexer": "ipython3",
   "version": "3.7.6"
  }
 },
 "nbformat": 4,
 "nbformat_minor": 4
}
